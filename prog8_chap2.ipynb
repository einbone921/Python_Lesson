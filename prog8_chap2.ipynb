{
 "cells": [
  {
   "cell_type": "code",
   "execution_count": 1,
   "metadata": {},
   "outputs": [
    {
     "name": "stdout",
     "output_type": "stream",
     "text": [
      "apple\n",
      "好きな果物はorangeです\n"
     ]
    }
   ],
   "source": [
    "# 変数fruitsに、複数の文字列を要素に持つリストを代入\n",
    "fruits = [\"apple\", \"banana\", \"orange\"]\n",
    "\n",
    "# インデックス番号が0の要素を出力\n",
    "print(fruits[0])\n",
    "\n",
    "# インデックス番号が2の要素を文字列と連結して出力\n",
    "print(\"好きな果物は\" + fruits[2] + \"です\")"
   ]
  },
  {
   "cell_type": "code",
   "execution_count": 2,
   "metadata": {},
   "outputs": [
    {
     "name": "stdout",
     "output_type": "stream",
     "text": [
      "['apple', 'banana', 'orange', 'grape']\n",
      "cherry\n"
     ]
    }
   ],
   "source": [
    "fruits = ['apple', 'banana', 'orange']\n",
    "\n",
    "# リストの末尾に文字列「grape」を追加\n",
    "fruits.append(\"grape\")\n",
    "\n",
    "# 変数fruitsに代入したリストを出力\n",
    "print(fruits)\n",
    "\n",
    "# インデックス番号が0の要素を文字列「cherry」に更新\n",
    "fruits[0] = \"cherry\"\n",
    "\n",
    "# インデックス番号が0の要素を出力\n",
    "print(fruits[0])"
   ]
  },
  {
   "cell_type": "code",
   "execution_count": 3,
   "metadata": {},
   "outputs": [
    {
     "name": "stdout",
     "output_type": "stream",
     "text": [
      "好きな果物はappleです\n",
      "好きな果物はbananaです\n",
      "好きな果物はorangeです\n"
     ]
    }
   ],
   "source": [
    "fruits = ['apple', 'banana', 'orange']\n",
    "\n",
    "# for文を用いてリストの要素を1つずつ取り出し、「好きな果物は◯◯です」と出力\n",
    "for fruit in fruits:\n",
    "    print(\"好きな果物は\" + fruit + \"です\")"
   ]
  },
  {
   "cell_type": "code",
   "execution_count": 4,
   "metadata": {},
   "outputs": [
    {
     "name": "stdout",
     "output_type": "stream",
     "text": [
      "バナナ\n",
      "appleはりんごという意味です\n"
     ]
    }
   ],
   "source": [
    "# 変数fruitsに辞書を代入\n",
    "fruits = { 'apple':'りんご', 'banana':'バナナ' }\n",
    "\n",
    "# 辞書fruitsのキー「banana」に対応する値を出力\n",
    "print(fruits['banana'])\n",
    "\n",
    "# 辞書fruitsを用いて、「appleは◯◯という意味です」となるように出力\n",
    "print(\"appleは\" + fruits['apple'] + \"という意味です\")"
   ]
  },
  {
   "cell_type": "code",
   "execution_count": 5,
   "metadata": {},
   "outputs": [
    {
     "name": "stdout",
     "output_type": "stream",
     "text": [
      "{'apple': 100, 'banana': 300, 'orange': 400, 'grape': 500}\n"
     ]
    }
   ],
   "source": [
    "fruits = {'apple': 100, 'banana': 200, 'orange': 400}\n",
    "\n",
    "# キー「banana」の値を数値「300」に更新\n",
    "fruits['banana'] = 300\n",
    "\n",
    "# キーが「grape」、値が数値の「500」の要素を辞書fruitsに追加\n",
    "fruits['grape'] = 500\n",
    "\n",
    "# fruitsの値を出力\n",
    "print(fruits)"
   ]
  },
  {
   "cell_type": "code",
   "execution_count": 6,
   "metadata": {},
   "outputs": [
    {
     "name": "stdout",
     "output_type": "stream",
     "text": [
      "appleはりんごという意味です\n",
      "bananaはバナナという意味です\n",
      "grapeはぶどうという意味です\n"
     ]
    }
   ],
   "source": [
    "fruits = {'apple': 'りんご', 'banana': 'バナナ', 'grape': 'ぶどう'}\n",
    "\n",
    "# for文を用いて、辞書のキーを1つずつ取り出し、繰り返しの中で「◯◯は△△という意味です」と出力\n",
    "for fruit_key in fruits:\n",
    "    print( fruit_key + \"は\" + fruits[fruit_key] + \"という意味です\")"
   ]
  },
  {
   "cell_type": "code",
   "execution_count": 7,
   "metadata": {},
   "outputs": [
    {
     "name": "stdout",
     "output_type": "stream",
     "text": [
      "10\n",
      "9\n",
      "8\n",
      "7\n",
      "6\n",
      "5\n",
      "4\n",
      "3\n",
      "2\n",
      "1\n"
     ]
    }
   ],
   "source": [
    "x = 10\n",
    "\n",
    "# while文を用いて、「変数xが0より大きい」間、繰り返される繰り返し処理を行う\n",
    "while x > 0:\n",
    "    # 変数xを出力\n",
    "    print(x)\n",
    "    # 変数xから1引く\n",
    "    x -= 1"
   ]
  },
  {
   "cell_type": "code",
   "execution_count": 8,
   "metadata": {},
   "outputs": [
    {
     "name": "stdout",
     "output_type": "stream",
     "text": [
      "765\n",
      "921\n",
      "777\n",
      "777が見つかったので処理を終了します\n"
     ]
    }
   ],
   "source": [
    "numbers = [765, 921, 777, 256]\n",
    "for number in numbers:\n",
    "    print(number)\n",
    "    # 変数numberが777のとき「777が見つかったので処理を終了します」と出力した後、処理を終了\n",
    "    if number == 777:\n",
    "        print(\"777が見つかったので処理を終了します\")\n",
    "        break"
   ]
  },
  {
   "cell_type": "code",
   "execution_count": 9,
   "metadata": {},
   "outputs": [
    {
     "name": "stdout",
     "output_type": "stream",
     "text": [
      "1\n",
      "2\n",
      "4\n",
      "5\n",
      "7\n",
      "8\n",
      "10\n"
     ]
    }
   ],
   "source": [
    "numbers = [1, 2, 3, 4, 5, 6, 7, 8, 9, 10]\n",
    "for number in numbers:\n",
    "    # 変数numberの値が3の倍数のとき、繰り返し処理をスキップ\n",
    "    if number % 3 == 0:\n",
    "        continue\n",
    "    print(number)"
   ]
  },
  {
   "cell_type": "code",
   "execution_count": 10,
   "metadata": {},
   "outputs": [
    {
     "name": "stdout",
     "output_type": "stream",
     "text": [
      "---------------------------------------------\n",
      "appleは1個100円です\n",
      "---------------------------------------------\n",
      "bananaは1個200円です\n",
      "---------------------------------------------\n",
      "orangeは1個400円です\n"
     ]
    }
   ],
   "source": [
    "# 文字列のキーと数値の値を持つ辞書を作って、変数itemsに代入\n",
    "items = { \"apple\": 100, \"banana\": 200, \"orange\": 400 }\n",
    "\n",
    "# for文を用いて、辞書itemsのキーを1つずつ取り出していく繰り返し処理を作成\n",
    "for item_name in items:\n",
    "    # 「---------------------------------------------」を出力\n",
    "    print(\"---------------------------------------------\")\n",
    "    # 「◯◯は1個△△円です」となるように出力してください\n",
    "    print( item_name + \"は1個\" + str(items[item_name]) + \"円です\")"
   ]
  },
  {
   "cell_type": "code",
   "execution_count": 11,
   "metadata": {},
   "outputs": [
    {
     "name": "stdout",
     "output_type": "stream",
     "text": [
      "--------------------------------------------------\n",
      "appleは1個100円です\n"
     ]
    },
    {
     "name": "stdin",
     "output_type": "stream",
     "text": [
      "購入するappleの個数を入力してください： 2\n"
     ]
    },
    {
     "name": "stdout",
     "output_type": "stream",
     "text": [
      "購入するappleの個数は2個です\n",
      "支払い金額は200円です\n",
      "--------------------------------------------------\n",
      "bananaは1個200円です\n"
     ]
    },
    {
     "name": "stdin",
     "output_type": "stream",
     "text": [
      "購入するbananaの個数を入力してください： 3\n"
     ]
    },
    {
     "name": "stdout",
     "output_type": "stream",
     "text": [
      "購入するbananaの個数は3個です\n",
      "支払い金額は600円です\n",
      "--------------------------------------------------\n",
      "orangeは1個400円です\n"
     ]
    },
    {
     "name": "stdin",
     "output_type": "stream",
     "text": [
      "購入するorangeの個数を入力してください： 1\n"
     ]
    },
    {
     "name": "stdout",
     "output_type": "stream",
     "text": [
      "購入するorangeの個数は1個です\n",
      "支払い金額は400円です\n"
     ]
    }
   ],
   "source": [
    "items = {'apple': 100, 'banana': 200, 'orange': 400}\n",
    "for item_name in items:\n",
    "    print('--------------------------------------------------')\n",
    "    print(item_name + 'は1個' + str(items[item_name]) + '円です')\n",
    "    \n",
    "    # inputを用いて入力を受け取り、変数input_countに代入\n",
    "    input_count = input(\"購入する\" + item_name + \"の個数を入力してください：\")\n",
    "    # キーと変数input_countを用いて「購入する◯◯の個数は△△個です」となるように出力\n",
    "    print(\"購入する\" + item_name + \"の個数は\" + input_count + \"個です\")\n",
    "    \n",
    "    # input_countを数値として変数countに代入\n",
    "    count = int(input_count)\n",
    "    # 変数total_priceに果物1個の値段と変数countを掛けた値を代入\n",
    "    total_price = items[item_name] * count\n",
    "    # 変数total_priceと型変換を用いて、「支払い金額は◯◯円です」となるように出力\n",
    "    print(\"支払い金額は\" + str(total_price) + \"円です\")"
   ]
  },
  {
   "cell_type": "code",
   "execution_count": 12,
   "metadata": {},
   "outputs": [
    {
     "name": "stdout",
     "output_type": "stream",
     "text": [
      "--------------------------------------------------\n",
      "財布には1000円入っています\n",
      "appleは1個100円です\n"
     ]
    },
    {
     "name": "stdin",
     "output_type": "stream",
     "text": [
      "購入するappleの個数を入力してください： 1\n"
     ]
    },
    {
     "name": "stdout",
     "output_type": "stream",
     "text": [
      "購入するappleの個数は1個です\n",
      "支払い金額は100円です\n",
      "appleを1個買いました\n",
      "--------------------------------------------------\n",
      "財布には900円入っています\n",
      "bananaは1個200円です\n"
     ]
    },
    {
     "name": "stdin",
     "output_type": "stream",
     "text": [
      "購入するbananaの個数を入力してください： 1\n"
     ]
    },
    {
     "name": "stdout",
     "output_type": "stream",
     "text": [
      "購入するbananaの個数は1個です\n",
      "支払い金額は200円です\n",
      "bananaを1個買いました\n",
      "--------------------------------------------------\n",
      "財布には700円入っています\n",
      "orangeは1個400円です\n"
     ]
    },
    {
     "name": "stdin",
     "output_type": "stream",
     "text": [
      "購入するorangeの個数を入力してください： 1\n"
     ]
    },
    {
     "name": "stdout",
     "output_type": "stream",
     "text": [
      "購入するorangeの個数は1個です\n",
      "支払い金額は400円です\n",
      "orangeを1個買いました\n"
     ]
    }
   ],
   "source": [
    "# 変数moneyに数値1000を代入\n",
    "money = 1000\n",
    "\n",
    "items = {'apple': 100, 'banana': 200, 'orange': 400}\n",
    "for item_name in items:\n",
    "    print('--------------------------------------------------')\n",
    "    # 変数moneyを用いて「財布には◯◯円入っています」のように出力\n",
    "    print(\"財布には\" + str(money) + \"円入っています\")\n",
    "    \n",
    "    print(item_name + 'は1個' + str(items[item_name]) + '円です')\n",
    "    \n",
    "    input_count = input('購入する' + item_name + 'の個数を入力してください：')\n",
    "    print('購入する' + item_name + 'の個数は' + input_count + '個です')\n",
    "    \n",
    "    count = int(input_count)\n",
    "    total_price = items[item_name] * count\n",
    "    print('支払い金額は' + str(total_price) + '円です')\n",
    "    \n",
    "    # moneyとtotal_priceの比較結果によって条件を分岐\n",
    "    if money >= total_price:\n",
    "        print(item_name + \"を\" + input_count + \"個買いました\")\n",
    "        money -= total_price \n",
    "    else:\n",
    "        print(\"お金が足りません\")\n",
    "        print(item_name + \"を買えませんでした\")"
   ]
  },
  {
   "cell_type": "code",
   "execution_count": null,
   "metadata": {},
   "outputs": [],
   "source": [
    "money = 1000\n",
    "items = {'apple': 100, 'banana': 200, 'orange': 400}\n",
    "for item_name in items:\n",
    "    print('--------------------------------------------------')\n",
    "    print('財布には' + str(money) + '円入っています')\n",
    "    print(item_name + 'は1個' + str(items[item_name]) + '円です')\n",
    "    \n",
    "    input_count = input('購入する' + item_name + 'の個数を入力してください：')\n",
    "    print('購入する' + item_name + 'の個数は' + input_count + '個です')\n",
    "    \n",
    "    count = int(input_count)\n",
    "    total_price = items[item_name] * count\n",
    "    print('支払い金額は' + str(total_price) + '円です')\n",
    "    \n",
    "    if money >= total_price:\n",
    "        print(item_name + 'を' + input_count + '個買いました')\n",
    "        money -= total_price\n",
    "        # if文を用いて、moneyの値が0のときの条件を分岐\n",
    "        if money == 0:\n",
    "            print(\"財布が空になりました\")\n",
    "            break\n",
    "            \n",
    "    else:\n",
    "        print('お金が足りません')\n",
    "        print(item_name + 'を買えませんでした')\n",
    "# 変数moneyと型変換を用いて、「残金は◯◯円です」となるように出力\n",
    "print(\"残金は\" + str(money) + \"円です\")\n"
   ]
  }
 ],
 "metadata": {
  "kernelspec": {
   "display_name": "Python 3",
   "language": "python",
   "name": "python3"
  },
  "language_info": {
   "codemirror_mode": {
    "name": "ipython",
    "version": 3
   },
   "file_extension": ".py",
   "mimetype": "text/x-python",
   "name": "python",
   "nbconvert_exporter": "python",
   "pygments_lexer": "ipython3",
   "version": "3.8.5"
  }
 },
 "nbformat": 4,
 "nbformat_minor": 4
}
