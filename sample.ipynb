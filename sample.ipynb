{
 "metadata": {
  "language_info": {
   "codemirror_mode": {
    "name": "ipython",
    "version": 3
   },
   "file_extension": ".py",
   "mimetype": "text/x-python",
   "name": "python",
   "nbconvert_exporter": "python",
   "pygments_lexer": "ipython3",
   "version": "3.8.5-final"
  },
  "orig_nbformat": 2,
  "kernelspec": {
   "name": "python3",
   "display_name": "Python 3",
   "language": "python"
  }
 },
 "nbformat": 4,
 "nbformat_minor": 2,
 "cells": [
  {
   "cell_type": "code",
   "execution_count": 1,
   "metadata": {},
   "outputs": [
    {
     "output_type": "stream",
     "name": "stdout",
     "text": [
      "apple\n好きな果物はorangeです\n"
     ]
    }
   ],
   "source": [
    "# 変数fruitsに、複数の文字列を要素に持つリストを代入\n",
    "fruits = [\"apple\", \"banana\", \"orange\"]\n",
    "\n",
    "# インデックス番号が0の要素を出力\n",
    "print(fruits[0])\n",
    "\n",
    "# インデックス番号が2の要素を文字列と連結して出力\n",
    "print(\"好きな果物は\" + fruits[2] + \"です\")"
   ]
  },
  {
   "cell_type": "code",
   "execution_count": 2,
   "metadata": {},
   "outputs": [
    {
     "output_type": "stream",
     "name": "stdout",
     "text": [
      "['apple', 'banana', 'orange', 'grape']\ncherry\n"
     ]
    }
   ],
   "source": [
    "fruits = ['apple', 'banana', 'orange']\n",
    "\n",
    "# リストの末尾に文字列「grape」を追加\n",
    "fruits.append(\"grape\")\n",
    "\n",
    "# 変数fruitsに代入したリストを出力\n",
    "print(fruits)\n",
    "\n",
    "# インデックス番号が0の要素を文字列「cherry」に更新\n",
    "fruits[0] = \"cherry\"\n",
    "\n",
    "# インデックス番号が0の要素を出力\n",
    "print(fruits[0])"
   ]
  },
  {
   "cell_type": "code",
   "execution_count": 3,
   "metadata": {},
   "outputs": [
    {
     "output_type": "stream",
     "name": "stdout",
     "text": [
      "好きな果物はappleです\n好きな果物はbananaです\n好きな果物はorangeです\n"
     ]
    }
   ],
   "source": [
    "fruits = ['apple', 'banana', 'orange']\n",
    "\n",
    "# for文を用いてリストの要素を1つずつ取り出し、「好きな果物は◯◯です」と出力\n",
    "for fruit in fruits:\n",
    "    print(\"好きな果物は\" + fruit + \"です\")"
   ]
  },
  {
   "cell_type": "code",
   "execution_count": 4,
   "metadata": {},
   "outputs": [
    {
     "output_type": "stream",
     "name": "stdout",
     "text": [
      "バナナ\nappleはりんごという意味です\n"
     ]
    }
   ],
   "source": [
    "# 変数fruitsに辞書を代入\n",
    "fruits = { 'apple':'りんご', 'banana':'バナナ' }\n",
    "\n",
    "# 辞書fruitsのキー「banana」に対応する値を出力\n",
    "print(fruits['banana'])\n",
    "\n",
    "# 辞書fruitsを用いて、「appleは◯◯という意味です」となるように出力\n",
    "print(\"appleは\" + fruits['apple'] + \"という意味です\")"
   ]
  },
  {
   "cell_type": "code",
   "execution_count": null,
   "metadata": {},
   "outputs": [],
   "source": [
    "fruits = {'apple': 100, 'banana': 200, 'orange': 400}\n",
    "\n",
    "# キー「banana」の値を数値「300」に更新\n",
    "fruits['banana'] = 300\n",
    "\n",
    "# キーが「grape」、値が数値の「500」の要素を辞書fruitsに追加\n",
    "fruits['grape'] = 500\n",
    "\n",
    "# fruitsの値を出力\n",
    "print(fruits)"
   ]
  }
 ]
}