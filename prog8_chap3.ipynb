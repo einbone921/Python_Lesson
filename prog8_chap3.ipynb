{
 "metadata": {
  "language_info": {
   "codemirror_mode": {
    "name": "ipython",
    "version": 3
   },
   "file_extension": ".py",
   "mimetype": "text/x-python",
   "name": "python",
   "nbconvert_exporter": "python",
   "pygments_lexer": "ipython3",
   "version": "3.8.5-final"
  },
  "orig_nbformat": 2,
  "kernelspec": {
   "name": "python3",
   "display_name": "Python 3",
   "language": "python"
  }
 },
 "nbformat": 4,
 "nbformat_minor": 2,
 "cells": [
  {
   "cell_type": "code",
   "execution_count": 1,
   "metadata": {},
   "outputs": [
    {
     "output_type": "stream",
     "name": "stdout",
     "text": [
      "グーを出しました\n"
     ]
    }
   ],
   "source": [
    "# 関数print_handを定義\n",
    "def print_hand():\n",
    "    print('グーを出しました')\n",
    "\n",
    "# 関数print_handを呼び出す\n",
    "print_hand()"
   ]
  },
  {
   "cell_type": "code",
   "execution_count": 2,
   "metadata": {},
   "outputs": [
    {
     "output_type": "stream",
     "name": "stdout",
     "text": [
      "グーを出しました\nパーを出しました\n"
     ]
    }
   ],
   "source": [
    "# 引数を受け取る\n",
    "def print_hand(hand):\n",
    "    # 「◯◯を出しました」と出力されるように書き換える\n",
    "    print(hand + 'を出しました')\n",
    "\n",
    "# 引数に文字列グーを入れる\n",
    "print_hand('グー')\n",
    "\n",
    "# 引数を文字列パーとして関数print_handを呼び出す\n",
    "print_hand('パー')"
   ]
  },
  {
   "cell_type": "code",
   "execution_count": 3,
   "metadata": {},
   "outputs": [
    {
     "output_type": "stream",
     "name": "stdout",
     "text": [
      "にんじゃわんこはグーを出しました\nコンピューターはパーを出しました\n"
     ]
    }
   ],
   "source": [
    "# 名前を第2引数で受け取る\n",
    "def print_hand(hand, name):\n",
    "    # 「◯◯は□□を出しました」と出力されるように書き換える\n",
    "    print(name + 'は' + hand + 'を出しました')\n",
    "\n",
    "# 第2引数に文字列「にんじゃわんこ」を入れる\n",
    "print_hand('グー', 'にんじゃわんこ')\n",
    "\n",
    "# 第2引数に文字列「コンピューター」を入れる\n",
    "print_hand('パー', 'コンピューター')"
   ]
  },
  {
   "cell_type": "code",
   "execution_count": 4,
   "metadata": {},
   "outputs": [
    {
     "output_type": "stream",
     "name": "stdout",
     "text": [
      "ゲストはグーを出しました\n"
     ]
    }
   ],
   "source": [
    "# 仮引数nameの初期値を設定\n",
    "def print_hand(hand, name='ゲスト'):\n",
    "    print(name + 'は' + hand + 'を出しました')\n",
    "\n",
    "# 引数に文字列グーのみを入れる\n",
    "print_hand('グー')"
   ]
  },
  {
   "cell_type": "code",
   "execution_count": null,
   "metadata": {},
   "outputs": [],
   "source": [
    "def print_hand(hand, name='ゲスト'):\n",
    "    print(name + 'は' + hand + 'を出しました')\n",
    "\n",
    "print('じゃんけんをはじめます')\n",
    "\n",
    "# inputを用いて入力を受け取り、変数player_nameに代入\n",
    "player_name = input('名前を入力してください：')\n",
    "\n",
    "# 変数player_nameの値によって関数print_handの呼び出し方を変更\n",
    "if player_name == '':\n",
    "    print_hand('グー')\n",
    "else:\n",
    "    print_hand('グー', player_name)"
   ]
  },
  {
   "cell_type": "code",
   "execution_count": null,
   "metadata": {},
   "outputs": [],
   "source": [
    "def print_hand(hand, name='ゲスト'):\n",
    "    # 変数handsに、複数の文字列を要素に持つリストを代入\n",
    "    hands = ['グー', 'チョキ', 'パー']\n",
    "    \n",
    "    # リストhandsを用いて、選択した手が出力されるように書き換える\n",
    "    print(name + 'は' + hands[hand] + 'を出しました')\n",
    "\n",
    "print('じゃんけんをはじめます')\n",
    "player_name = input('名前を入力してください：')\n",
    "# 「何を出しますか？（0: グー, 1: チョキ, 2: パー）」と出力\n",
    "print('何を出しますか？（0: グー, 1: チョキ, 2: パー）')\n",
    "\n",
    "# inputを用いて入力を受け取り、数値に型変換してから変数player_handに代入\n",
    "player_hand = int(input('数字で入力してください：'))\n",
    "\n",
    "if player_name == '':\n",
    "    # 第1引数を変数player_handに書き換える\n",
    "    print_hand(player_hand)\n",
    "else:\n",
    "    # 第1引数を変数player_handに書き換える\n",
    "    print_hand(player_hand, player_name)"
   ]
  },
  {
   "cell_type": "code",
   "execution_count": null,
   "metadata": {},
   "outputs": [],
   "source": [
    "# 関数validateを定義\n",
    "def validate(hand):\n",
    "    # handの値によって条件分岐\n",
    "    if hand < 0 or hand > 2:\n",
    "        return False\n",
    "    else:\n",
    "        return True\n",
    "    \n",
    "def print_hand(hand, name='ゲスト'):\n",
    "    hands = ['グー', 'チョキ', 'パー']\n",
    "    print(name + 'は' + hands[hand] + 'を出しました')\n",
    "\n",
    "print('じゃんけんをはじめます')\n",
    "player_name = input('名前を入力してください：')\n",
    "print('何を出しますか？（0: グー, 1: チョキ, 2: パー）')\n",
    "player_hand = int(input('数字で入力してください：'))\n",
    "\n",
    "# 関数validateの戻り値がTrueの場合、以下のif~else文が実行\n",
    "if validate(player_hand):\n",
    "    if player_name == '':\n",
    "        print_hand(player_hand)\n",
    "    else:\n",
    "        print_hand(player_hand, player_name)\n",
    "# 関数validateの戻り値がFalseの場合「正しい数値を入力してください」と出力\n",
    "else:\n",
    "    print('正しい数値を入力してください')"
   ]
  },
  {
   "cell_type": "code",
   "execution_count": null,
   "metadata": {},
   "outputs": [],
   "source": [
    "def validate(hand):\n",
    "    if hand < 0 or hand > 2:\n",
    "        return False\n",
    "    # elseを消してインデントを直す\n",
    "    return True\n",
    "\n",
    "def print_hand(hand, name='ゲスト'):\n",
    "    hands = ['グー', 'チョキ', 'パー']\n",
    "    print(name + 'は' + hands[hand] + 'を出しました')\n",
    "\n",
    "print('じゃんけんをはじめます')\n",
    "player_name = input('名前を入力してください：')\n",
    "print('何を出しますか？（0: グー, 1: チョキ, 2: パー）')\n",
    "player_hand = int(input('数字で入力してください：'))\n",
    "\n",
    "if validate(player_hand):\n",
    "    if player_name == '':\n",
    "        print_hand(player_hand)\n",
    "    else:\n",
    "        print_hand(player_hand, player_name)\n",
    "else:\n",
    "    print('正しい数値を入力してください')"
   ]
  },
  {
   "cell_type": "code",
   "execution_count": null,
   "metadata": {},
   "outputs": [],
   "source": [
    "def validate(hand):\n",
    "    if hand < 0 or hand > 2:\n",
    "        return False\n",
    "    return True\n",
    "\n",
    "def print_hand(hand, name='ゲスト'):\n",
    "    hands = ['グー', 'チョキ', 'パー']\n",
    "    print(name + 'は' + hands[hand] + 'を出しました')\n",
    "\n",
    "print('じゃんけんをはじめます')\n",
    "player_name = input('名前を入力してください：')\n",
    "print('何を出しますか？（0: グー, 1: チョキ, 2: パー）')\n",
    "player_hand = int(input('数字で入力してください：'))\n",
    "\n",
    "if validate(player_hand):\n",
    "    # 変数computer_handに数値1を代入\n",
    "    computer_hand = 1\n",
    "   \n",
    "    if player_name == '':\n",
    "        print_hand(player_hand)\n",
    "    else:\n",
    "        print_hand(player_hand, player_name)\n",
    "    \n",
    "    # 第1引数をcomputer_hand、第2引数を文字列「コンピューター」とし関数print_handを呼び出す\n",
    "    print_hand(computer_hand, 'コンピューター')\n",
    "\n",
    "else:\n",
    "    print('正しい数値を入力してください')"
   ]
  },
  {
   "cell_type": "code",
   "execution_count": null,
   "metadata": {},
   "outputs": [],
   "source": [
    "def validate(hand):\n",
    "    if hand < 0 or hand > 2:\n",
    "        return False\n",
    "    return True\n",
    "\n",
    "def print_hand(hand, name='ゲスト'):\n",
    "    hands = ['グー', 'チョキ', 'パー']\n",
    "    print(name + 'は' + hands[hand] + 'を出しました')\n",
    "\n",
    "# 関数judgeを定義\n",
    "def judge(player, computer):\n",
    "    # playerとcomputerの比較結果によって条件を分岐\n",
    "    if player == computer:\n",
    "        return '引き分け'\n",
    "    elif player == 0 and computer == 1:\n",
    "        return '勝ち'\n",
    "    elif player == 1 and computer == 2:\n",
    "        return '勝ち'\n",
    "    elif player == 2 and computer == 0:\n",
    "        return '勝ち'\n",
    "    else:\n",
    "        return '負け'\n",
    "    \n",
    "\n",
    "print('じゃんけんをはじめます')\n",
    "player_name = input('名前を入力してください：')\n",
    "print('何を出しますか？（0: グー, 1: チョキ, 2: パー）')\n",
    "player_hand = int(input('数字で入力してください：'))\n",
    "\n",
    "if validate(player_hand):\n",
    "    computer_hand = 1\n",
    "   \n",
    "    if player_name == '':\n",
    "        print_hand(player_hand)\n",
    "    else:\n",
    "        print_hand(player_hand, player_name)\n",
    "    \n",
    "    print_hand(computer_hand, 'コンピューター')\n",
    "    \n",
    "    # 変数resultに関数judgeの戻り値を代入\n",
    "    result = judge(player_hand, computer_hand)\n",
    "    # 変数resultを出力\n",
    "    print('結果は' + result + 'でした')\n",
    "else:\n",
    "    print('正しい数値を入力してください')"
   ]
  }
 ]
}