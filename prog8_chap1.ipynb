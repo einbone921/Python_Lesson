{
 "cells": [
  {
   "cell_type": "code",
   "execution_count": 2,
   "metadata": {},
   "outputs": [
    {
     "name": "stdout",
     "output_type": "stream",
     "text": [
      "Hello World\n"
     ]
    }
   ],
   "source": [
    "# Hello Worldと出力\n",
    "print(\"Hello World\")"
   ]
  },
  {
   "cell_type": "code",
   "execution_count": 3,
   "metadata": {},
   "outputs": [
    {
     "name": "stdout",
     "output_type": "stream",
     "text": [
      "7\n",
      "12\n",
      "9 + 3\n"
     ]
    }
   ],
   "source": [
    "# 数値の7を出力\n",
    "print( 7 )\n",
    "\n",
    "# 9に3足した値を出力\n",
    "print( 9 + 3 )\n",
    "\n",
    "# 「9 + 3」を文字列として出力\n",
    "print(\"9 + 3\")"
   ]
  },
  {
   "cell_type": "code",
   "execution_count": 4,
   "metadata": {},
   "outputs": [
    {
     "name": "stdout",
     "output_type": "stream",
     "text": [
      "4.5\n",
      "35\n",
      "1\n"
     ]
    }
   ],
   "source": [
    "# 9を2で割った値を出力\n",
    "print( 9 / 2 )\n",
    "\n",
    "# 7に5を掛けた値を出力\n",
    "print( 7 * 5 )\n",
    "\n",
    "# 5を2で割った時の余りを出力\n",
    "print( 5 % 2 )"
   ]
  },
  {
   "cell_type": "code",
   "execution_count": 5,
   "metadata": {},
   "outputs": [
    {
     "name": "stdout",
     "output_type": "stream",
     "text": [
      "にんじゃわんこ\n",
      "7\n"
     ]
    }
   ],
   "source": [
    "# 変数nameに文字列「にんじゃわんこ」を代入\n",
    "name = \"にんじゃわんこ\"\n",
    "\n",
    "# 変数nameの値を出力\n",
    "print(name)\n",
    "\n",
    "# 変数numberに数値の7を代入\n",
    "number = 7\n",
    "\n",
    "# 変数numberの値を出力\n",
    "print(number)"
   ]
  },
  {
   "cell_type": "code",
   "execution_count": 6,
   "metadata": {},
   "outputs": [
    {
     "name": "stdout",
     "output_type": "stream",
     "text": [
      "1600\n"
     ]
    }
   ],
   "source": [
    "apple_price = 200\n",
    "apple_count = 8\n",
    "\n",
    "# apple_priceとapple_countを掛けた結果を、変数total_priceに代入\n",
    "total_price = apple_price * apple_count\n",
    "\n",
    "# total_priceの値を出力\n",
    "print(total_price)"
   ]
  },
  {
   "cell_type": "code",
   "execution_count": 7,
   "metadata": {},
   "outputs": [
    {
     "name": "stdout",
     "output_type": "stream",
     "text": [
      "2000\n",
      "7000\n"
     ]
    }
   ],
   "source": [
    "money = 2000\n",
    "print(money)\n",
    "\n",
    "# 変数moneyに5000を足して、変数moneyを上書き\n",
    "money += 5000\n",
    "\n",
    "# 変数moneyの値を出力\n",
    "print(money)"
   ]
  },
  {
   "cell_type": "code",
   "execution_count": 8,
   "metadata": {},
   "outputs": [
    {
     "name": "stdout",
     "output_type": "stream",
     "text": [
      "私はにんじゃわんこです\n"
     ]
    }
   ],
   "source": [
    "# my_nameという変数に「にんじゃわんこ」という文字列を代入\n",
    "my_name = \"にんじゃわんこ\"\n",
    "\n",
    "# my_nameを用いて、「私はにんじゃわんこです」となるように変数と文字列を連結して出力\n",
    "print(\"私は\" + my_name + \"です\")"
   ]
  },
  {
   "cell_type": "code",
   "execution_count": 9,
   "metadata": {},
   "outputs": [
    {
     "name": "stdout",
     "output_type": "stream",
     "text": [
      "私は24歳です\n",
      "6\n"
     ]
    }
   ],
   "source": [
    "age = 24\n",
    "# ageを用いて「私は24歳です」と出力\n",
    "print(\"私は\" + str(age) + \"歳です\")\n",
    "\n",
    "count = '5'\n",
    "# countに1を足した値を出力\n",
    "print( 1 + int(count))"
   ]
  },
  {
   "cell_type": "code",
   "execution_count": 10,
   "metadata": {},
   "outputs": [
    {
     "name": "stdout",
     "output_type": "stream",
     "text": [
      "xは70です\n",
      "yは40ではありません\n"
     ]
    }
   ],
   "source": [
    "x = 7 * 10\n",
    "y = 5 * 6\n",
    "\n",
    "# xが70と等しい場合に「xは70です」と出力\n",
    "if x == 70:\n",
    "    print(\"xは70です\")\n",
    "\n",
    "\n",
    "# yが40と等しくない場合に「yは40ではありません」と出力\n",
    "if y != 40:\n",
    "    print(\"yは40ではありません\")"
   ]
  },
  {
   "cell_type": "code",
   "execution_count": 11,
   "metadata": {},
   "outputs": [
    {
     "name": "stdout",
     "output_type": "stream",
     "text": [
      "りんごを買うことができます\n"
     ]
    }
   ],
   "source": [
    "x = 10\n",
    "# xが30より大きい場合に「xは30より大きいです」と出力\n",
    "if x > 30:\n",
    "    print(\"xは30より大きいです\")\n",
    "\n",
    "\n",
    "money = 500\n",
    "apple_price = 200\n",
    "# moneyの値がapple_priceの値以上の時、「りんごを買うことができます」と出力\n",
    "if money >= apple_price:\n",
    "    print(\"りんごを買うことができます\")"
   ]
  },
  {
   "cell_type": "code",
   "execution_count": 12,
   "metadata": {},
   "outputs": [
    {
     "name": "stdout",
     "output_type": "stream",
     "text": [
      "お金が足りません\n"
     ]
    }
   ],
   "source": [
    "money = 100\n",
    "apple_price = 200\n",
    "\n",
    "if money >= apple_price:\n",
    "    print('りんごを買うことができます')\n",
    "# if文の条件に当てはまらない場合に「お金が足りません」と出力\n",
    "else:\n",
    "    print('お金が足りません')"
   ]
  },
  {
   "cell_type": "code",
   "execution_count": 13,
   "metadata": {},
   "outputs": [
    {
     "name": "stdout",
     "output_type": "stream",
     "text": [
      "りんごを買うことができますが所持金が0になります\n"
     ]
    }
   ],
   "source": [
    "money = 100\n",
    "apple_price = 100\n",
    "\n",
    "if money > apple_price:\n",
    "    print('りんごを買うことができます')\n",
    "# 変数の値が等しい場合に「りんごを買うことができますが所持金が0になります」と出力\n",
    "elif money == apple_price:\n",
    "    print('りんごを買うことができますが所持金が0になります')\n",
    "else:\n",
    "    print('お金が足りません')"
   ]
  },
  {
   "cell_type": "code",
   "execution_count": 14,
   "metadata": {},
   "outputs": [
    {
     "name": "stdout",
     "output_type": "stream",
     "text": [
      "xは10以上30以下です\n",
      "yは10未満または30より大きいです\n",
      "zは77ではありません\n"
     ]
    }
   ],
   "source": [
    "x = 20\n",
    "# xが10以上30以下の場合に「xは10以上30以下です」と出力\n",
    "if 10 <= x <= 30:\n",
    "    print(\"xは10以上30以下です\")\n",
    "\n",
    "y = 60\n",
    "# yが10未満または30より大きい場合に「yは10未満または30より大きいです」と出力\n",
    "if y < 10 or y > 30:\n",
    "    print(\"yは10未満または30より大きいです\")\n",
    "\n",
    "z = 55\n",
    "# zが77ではない場合に「zは77ではありません」と出力\n",
    "if not z == 77:\n",
    "    print(\"zは77ではありません\")"
   ]
  },
  {
   "cell_type": "code",
   "execution_count": 15,
   "metadata": {},
   "outputs": [
    {
     "name": "stdout",
     "output_type": "stream",
     "text": [
      "購入するりんごの個数は5個です\n",
      "支払い金額は1000円です\n"
     ]
    }
   ],
   "source": [
    "# apple_priceという変数に数値200を代入\n",
    "apple_price = 200\n",
    "\n",
    "# countという変数に数値5を代入\n",
    "count = 5\n",
    "\n",
    "# total_priceという変数に、apple_priceとcountを掛けたものを代入\n",
    "total_price = apple_price * count\n",
    "\n",
    "# 「購入するりんごの個数は○○個です」となるように出力\n",
    "print(\"購入するりんごの個数は\" + str(count) + \"個です\")\n",
    "\n",
    "# 「支払い金額は○○円です」となるように出力\n",
    "print(\"支払い金額は\" + str(total_price) + \"円です\")"
   ]
  },
  {
   "cell_type": "code",
   "execution_count": 16,
   "metadata": {},
   "outputs": [
    {
     "name": "stdin",
     "output_type": "stream",
     "text": [
      "購入するりんごの個数を入力してください： 2\n"
     ]
    },
    {
     "name": "stdout",
     "output_type": "stream",
     "text": [
      "購入するりんごの個数は2個です\n",
      "支払い金額は400円です\n"
     ]
    }
   ],
   "source": [
    "apple_price = 200\n",
    "\n",
    "# inputを用いて入力を受け取り、変数input_countに代入\n",
    "input_count = input(\"購入するりんごの個数を入力してください：\")\n",
    "\n",
    "# input_countを数値として代入\n",
    "count = int(input_count)\n",
    "total_price = apple_price * count\n",
    "\n",
    "print('購入するりんごの個数は' + str(count) + '個です')\n",
    "print('支払い金額は' + str(total_price) + '円です')"
   ]
  },
  {
   "cell_type": "code",
   "execution_count": 17,
   "metadata": {},
   "outputs": [
    {
     "name": "stdin",
     "output_type": "stream",
     "text": [
      "購入するりんごの個数を入力してください： 4\n"
     ]
    },
    {
     "name": "stdout",
     "output_type": "stream",
     "text": [
      "購入するりんごの個数は4個です\n",
      "支払い金額は800円です\n",
      "りんごを4個買いました\n",
      "残金は200円です\n"
     ]
    }
   ],
   "source": [
    "apple_price = 200\n",
    "# 変数moneyに数値1000を代入\n",
    "money = 1000\n",
    "\n",
    "input_count = input('購入するりんごの個数を入力してください：')\n",
    "count = int(input_count)\n",
    "total_price = apple_price * count\n",
    "\n",
    "print('購入するりんごの個数は' + str(count) + '個です')\n",
    "print('支払い金額は' + str(total_price) + '円です')\n",
    "\n",
    "# moneyとtotal_priceの比較結果によって条件を分岐\n",
    "total_money = money - total_price\n",
    "\n",
    "if money > total_price:\n",
    "    print(\"りんごを\" + str(count) + \"個買いました\")\n",
    "    print(\"残金は\" + str(total_money) + \"円です\")\n",
    "elif money == total_price:\n",
    "    print(\"りんごを\" + str(count) + \"個買いました\")\n",
    "    print(\"財布が空になりました\")\n",
    "else: \n",
    "    print(\"お金が足りません\")\n",
    "    print(\"りんごを買えませんでした\")"
   ]
  },
  {
   "cell_type": "code",
   "execution_count": null,
   "metadata": {},
   "outputs": [],
   "source": []
  }
 ],
 "metadata": {
  "kernelspec": {
   "display_name": "Python 3",
   "language": "python",
   "name": "python3"
  },
  "language_info": {
   "codemirror_mode": {
    "name": "ipython",
    "version": 3
   },
   "file_extension": ".py",
   "mimetype": "text/x-python",
   "name": "python",
   "nbconvert_exporter": "python",
   "pygments_lexer": "ipython3",
   "version": "3.8.5"
  }
 },
 "nbformat": 4,
 "nbformat_minor": 4
}
